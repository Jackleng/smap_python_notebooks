{
 "cells": [
  {
   "cell_type": "markdown",
   "metadata": {},
   "source": [
    "#### Quality Flags & SMAP Data\n",
    "\n",
    "* Retrieval Quality Flag [combines all surface flags]\n",
    "* Surface Quality Flag [provides information on why certain area might be flagged]\n"
   ]
  },
  {
   "cell_type": "code",
   "execution_count": null,
   "metadata": {},
   "outputs": [],
   "source": [
    "import datetime as dt\n",
    "import glob\n",
    "import h5py\n",
    "%matplotlib inline\n",
    "import matplotlib.pyplot as plt\n",
    "import numpy as np\n",
    "import os"
   ]
  },
  {
   "cell_type": "markdown",
   "metadata": {},
   "source": [
    "    Read in SMAP data for level 3 dataset for this example"
   ]
  },
  {
   "cell_type": "code",
   "execution_count": null,
   "metadata": {},
   "outputs": [],
   "source": [
    "this_dir = os.getcwd()\n",
    "L3_SM_P_dir = os.path.join(this_dir, 'data/L3_SM_P/')\n",
    "\n",
    "flist = glob.glob(os.path.join(L3_SM_P_dir, '*.h5'))\n",
    "filename = flist[0]; "
   ]
  },
  {
   "cell_type": "markdown",
   "metadata": {},
   "source": [
    "Ok now lets read in variables: soil_moisture, "
   ]
  },
  {
   "cell_type": "code",
   "execution_count": null,
   "metadata": {},
   "outputs": [],
   "source": [
    "f = h5py.File(filename, 'r')\n",
    "group_id = 'Soil_Moisture_Retrieval_Data_AM'\n",
    "var_id = list(f[group_id].keys())[16] # soil_moisture\n",
    "sm_data = f[group_id][var_id][:,:]\n",
    "surf_flag_L3_P = f[group_id]['surface_flag'][:,:]"
   ]
  },
  {
   "cell_type": "markdown",
   "metadata": {},
   "source": [
    "    data are returned as <type 'numpy.ndarray'> something easy to work with in python.\n"
   ]
  },
  {
   "cell_type": "markdown",
   "metadata": {},
   "source": [
    "Lets look at the two masks:"
   ]
  },
  {
   "cell_type": "markdown",
   "metadata": {},
   "source": [
    "**Retrieval Flags**"
   ]
  },
  {
   "cell_type": "markdown",
   "metadata": {},
   "source": [
    "To clear up any confusion from the workshop on quality masking:\n",
    "\n",
    "I used over-simplified approaches to applying quality flags within the demo scripts that were hasty.\n",
    "Below are better documented directions to applying the recommended quality flags for SMAP data.\n",
    "\n",
    "Here I show the recommended quality flag from SMAP"
   ]
  },
  {
   "cell_type": "code",
   "execution_count": null,
   "metadata": {},
   "outputs": [],
   "source": [
    "# Grab the Retrieval Quality Variable\n",
    "ret_flag_L3_P = f[group_id]['retrieval_qual_flag'][:,:]\n",
    "# Create a definition for the retrieval flags\n",
    "ret_flags = {\n",
    "    0:'Recommended Quality',\n",
    "    1:'Retrieval Attempted',\n",
    "    2:'Retrieval Successful',\n",
    "    3:'Undefined'\n",
    "}\n",
    "# SMAP RECOMMENDED QUALITY BIT IS 0\n",
    "fig, ax = plt.subplots()\n",
    "\n",
    "cax = ax.imshow((ret_flag_L3_P>>0)&1, cmap=plt.cm.get_cmap('bone', 2))\n",
    "ax.set_title(ret_flags[0])\n",
    "\n",
    "cbar = fig.colorbar(cax, ticks=[0, 1], orientation='horizontal')\n",
    "cbar.ax.set_xticklabels(['Good Data', 'Not Recommended'])  # horizontal colorbar\n",
    "\n",
    "plt.show()\n"
   ]
  },
  {
   "cell_type": "markdown",
   "metadata": {},
   "source": [
    "Areas above with 0 value [black regions] are data of recommended quality.\n",
    "\n",
    "**Surface Flags**"
   ]
  },
  {
   "cell_type": "code",
   "execution_count": null,
   "metadata": {},
   "outputs": [],
   "source": [
    "surf_flags = {\n",
    "    0:'Static water',\n",
    "    1:'Radar-derived Water Fraction',\n",
    "    2:'Coastal Proximity',\n",
    "    3:'Urban Area',\n",
    "    4:'Precipitation',\n",
    "    5:'Snow',\n",
    "    6:'Ice',\n",
    "    7:'Frozen Ground (model)',\n",
    "    8:'Frozen Ground (radar)',\n",
    "    9:'Mountainous Terrain',\n",
    "    10:'Dense Vegetation',\n",
    "    11:'Nadir Region',\n",
    "    12:'Undefined'\n",
    "}"
   ]
  },
  {
   "cell_type": "markdown",
   "metadata": {},
   "source": [
    "* Based off the above recommended quality flags above the surface flags that inhibit recommende quality are as follows.  \n",
    "* Black areas show no flag, white areas show where flagged data occcur."
   ]
  },
  {
   "cell_type": "code",
   "execution_count": null,
   "metadata": {
    "scrolled": false
   },
   "outputs": [],
   "source": [
    "for i in np.arange(0,12):\n",
    "    fig, ax = plt.subplots()\n",
    "    cax = ax.imshow((surf_flag_L3_P>>i)&1, cmap=plt.cm.get_cmap('bone', 2))\n",
    "    ax.set_title(surf_flags[i])\n",
    "    cbar = fig.colorbar(cax, ticks=[0, 1], orientation='horizontal')\n",
    "    cbar.ax.set_xticklabels(['No Flag', 'Flag Present'])  # horizontal colorbar\n",
    "    plt.show()"
   ]
  }
 ],
 "metadata": {
  "kernelspec": {
   "display_name": "Python 3",
   "language": "python",
   "name": "python3"
  },
  "language_info": {
   "codemirror_mode": {
    "name": "ipython",
    "version": 3
   },
   "file_extension": ".py",
   "mimetype": "text/x-python",
   "name": "python",
   "nbconvert_exporter": "python",
   "pygments_lexer": "ipython3",
   "version": "3.7.1"
  }
 },
 "nbformat": 4,
 "nbformat_minor": 2
}
