{
 "cells": [
  {
   "cell_type": "markdown",
   "metadata": {},
   "source": [
    "## 1.1 Access SMAP data with Python\n",
    "\n",
    "We will use the popular python `requests` library to bulk download SMAP data.\n",
    "\n",
    "### Bulk data downloads from NSIDC\n",
    "\n",
    "* We are going to do this in python, but you can do this in other languages also.\n",
    "\n",
    "* Click [here](https://nsidc.org/support/faq/what-options-are-available-bulk-downloading-data-https-earthdata-login-enabled) to get additional instructions on bulk data downloads from NSIDC.\n",
    "\n",
    "* SMAP data are available through the following url:\n",
    "    * https://n5eil02u.ecs.nsidc.org/opendap/SMAP/\n",
    "\n",
    "* For these examples, we will use **SPL3SMP version 004**, but the same methdology to access and subset SMAP data will work for any of the products availabe there"
   ]
  },
  {
   "cell_type": "markdown",
   "metadata": {},
   "source": [
    "import packages"
   ]
  },
  {
   "cell_type": "code",
   "execution_count": null,
   "metadata": {},
   "outputs": [],
   "source": [
    "import calendar\n",
    "import os\n",
    "\n",
    "import requests"
   ]
  },
  {
   "cell_type": "markdown",
   "metadata": {},
   "source": [
    "### Downloading March 2017 data \n",
    "\n",
    "1. Create and navigate to a Data directory that will contain the files we download."
   ]
  },
  {
   "cell_type": "code",
   "execution_count": null,
   "metadata": {},
   "outputs": [],
   "source": [
    "data_out = './Data/L3_SM_P/'\n",
    "\n",
    "def check_directory(destination_directory):\n",
    "    if not os.path.exists(destination_directory):\n",
    "        print('creating directory: ' + destination_directory)\n",
    "        os.makedirs(destination_directory)\n",
    "    else:\n",
    "        print('directory exists: ' + destination_directory)\n",
    "    return None\n",
    "\n",
    "check_directory(data_out)\n",
    "os.chdir(data_out)\n",
    "cwd = os.getcwd()\n",
    "print(cwd)"
   ]
  },
  {
   "cell_type": "markdown",
   "metadata": {},
   "source": [
    "#### Now we will create a function to return the url and filename of the data we want to download.\n",
    "\n",
    "For SMAP we will do this by year, month, and day. The rest of the filename is predictable."
   ]
  },
  {
   "cell_type": "code",
   "execution_count": null,
   "metadata": {},
   "outputs": [],
   "source": [
    "def SMAP_L3_P_36km_Path(year, month, day):\n",
    "    fpath_start = 'https://n5eil01u.ecs.nsidc.org/SMAP/'\n",
    "    host = 'https://n5eil01u.ecs.nsidc.org/'\n",
    "    version = '.004'\n",
    "    url_path = '{host}/SMAP/SPL3SMP{version}/{year}.{month:02}.{day:02}/'.format(host=host,\n",
    "                                                                                 version=version,\n",
    "                                                                                 year=year,\n",
    "                                                                                 month=month,\n",
    "                                                                                 day=day)\n",
    "    filename = 'SMAP_L3_SM_P_{year}{month:02}{day:02}_R14010_001.h5'.format(year=year, \n",
    "                                                                            month=month, \n",
    "                                                                            day=day)\n",
    "\n",
    "    smap_data_path = url_path + filename\n",
    "    \n",
    "    return smap_data_path, filename\n"
   ]
  },
  {
   "cell_type": "markdown",
   "metadata": {},
   "source": [
    "## Download the data"
   ]
  },
  {
   "cell_type": "code",
   "execution_count": null,
   "metadata": {},
   "outputs": [],
   "source": [
    "# Add Earthdata username and password here.\n",
    "username = ''\n",
    "password = ''"
   ]
  },
  {
   "cell_type": "code",
   "execution_count": null,
   "metadata": {
    "scrolled": true
   },
   "outputs": [],
   "source": [
    "\n",
    "\n",
    "# Download data for March 2017\n",
    "year = 2017\n",
    "month = 3\n",
    "_, days_in_month = calendar.monthrange(2017, 3)  # 31 days in March 2017\n",
    "\n",
    "# Use a requests session to keep track of authentication credentials\n",
    "with requests.Session() as session:\n",
    "    session.auth = (username, password)\n",
    "    \n",
    "    for day in range(1, days_in_month + 1):\n",
    "        print('Downloading SMAP data for: '+str(year)+'-'+str(month).zfill(2)+'-'+str(day).zfill(2))\n",
    "\n",
    "        full_path, fileName = SMAP_L3_P_36km_Path(year, month, day)\n",
    "\n",
    "        response = session.get(full_path)\n",
    "        # If the response code is 401, we still need to authorize with earthdata.\n",
    "        if response.status_code == 401:\n",
    "            response = session.get(response.url)\n",
    "        assert response.ok, 'Problem downloading data! Reason: {}'.format(response.reason)\n",
    "\n",
    "        with open(fileName, 'wb') as f:\n",
    "            f.write(response.content)\n",
    "\n",
    "        print(fileName + ' downloaded')\n",
    "        print('*** SM data saved to: '+cwd + fileName+' *** ')"
   ]
  },
  {
   "cell_type": "markdown",
   "metadata": {},
   "source": [
    "### Now you have the tools to download in bulk!\n",
    "\n",
    "**FYI these scripts can take a long time, especially if you are downloading larger files.**\n",
    "* SMAP 36km data are ~ 30MB\n",
    "* SMAP 9km data are ~ 300MB\n",
    "* SMAP 3km data are ~ 2 GB\n",
    "\n",
    "** This is why OPENDAP makes more sense in some cases **"
   ]
  }
 ],
 "metadata": {
  "kernelspec": {
   "display_name": "Python 3",
   "language": "python",
   "name": "python3"
  },
  "language_info": {
   "codemirror_mode": {
    "name": "ipython",
    "version": 3
   },
   "file_extension": ".py",
   "mimetype": "text/x-python",
   "name": "python",
   "nbconvert_exporter": "python",
   "pygments_lexer": "ipython3",
   "version": "3.7.1"
  }
 },
 "nbformat": 4,
 "nbformat_minor": 2
}
