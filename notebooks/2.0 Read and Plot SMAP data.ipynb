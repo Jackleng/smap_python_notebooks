{
 "cells": [
  {
   "cell_type": "markdown",
   "metadata": {},
   "source": [
    "# SMAP data processing demonstration\n",
    "The below script provides examples on how to:\n",
    "1. ### Read in SMAP data and navigate metadata\n",
    "2. ### Create a map with SMAP data\n",
    "3. ### Plot a time-series at a location on Earth\n",
    "\n",
    "The complementary <b><i>1.0 Access SMAP data</i></b> script provided demonstrates where and how to obtain SMAP data from the [NSIDC data portal](https://n5eil01u.ecs.nsidc.org/SMAP/) via [WGET](https://www.gnu.org/software/wget/) and [OPENDAP](https://www.opendap.org).\n",
    "\n",
    "#### Import packages"
   ]
  },
  {
   "cell_type": "code",
   "execution_count": null,
   "metadata": {},
   "outputs": [],
   "source": [
    "import datetime as dt\n",
    "import glob\n",
    "import h5py\n",
    "%matplotlib inline\n",
    "import matplotlib.pyplot as plt\n",
    "from mpl_toolkits.basemap import Basemap\n",
    "import numpy as np\n",
    "import os\n",
    "import pandas as pd\n",
    "import xarray as xr"
   ]
  },
  {
   "cell_type": "markdown",
   "metadata": {},
   "source": [
    "## 1. Read SMAP data and navigate metadata\n",
    "* First we navigate to the folder with the data we want to use for this quick demo. \n",
    "* Next lets make a list of the files within the folder and print one out."
   ]
  },
  {
   "cell_type": "code",
   "execution_count": null,
   "metadata": {},
   "outputs": [],
   "source": [
    "this_dir = os.getcwd()\n",
    "L3_SM_P_dir = os.path.join(this_dir, 'data/L3_SM_P/')\n",
    "\n",
    "flist = glob.glob(os.path.join(L3_SM_P_dir, '*.h5'))\n",
    "           \n",
    "filename = flist[0]; \n",
    "print(\"File we are using: \" + filename + '\\n')"
   ]
  },
  {
   "cell_type": "markdown",
   "metadata": {},
   "source": [
    "*  Now lets use h5py.File() to open the file\n",
    "*  Then we can look at the folders within the file to access the data we want"
   ]
  },
  {
   "cell_type": "code",
   "execution_count": null,
   "metadata": {},
   "outputs": [],
   "source": [
    "f = h5py.File(filename, 'r')\n",
    "print('By using the command h5py.File() a filehandle is returned:')\n",
    "print(f); print('\\n')\n",
    "\n",
    "print(\"Now lets look at the groups within the file to access:\")\n",
    "i=0;\n",
    "for key in f.keys():\n",
    "    print(str(i)+ '\\t'+key)\n",
    "    i+=1\n",
    "group_id=list(f.keys())[1];# < Lets focus on the AM overpass for this example\n",
    "print('\\n')\n",
    "i=0\n",
    "print(\"Now lets look at the variables within the filegroup **Soil_Moisture_Retrieval_Data_AM** to access the actual data:\")\n",
    "for var in list(f[group_id].keys()):\n",
    "    print(str(i)+'\\t'+var)\n",
    "    i+=1"
   ]
  },
  {
   "cell_type": "markdown",
   "metadata": {},
   "source": [
    "Ok now that we know the variables within the Soil_Moisture_Retrieval_Data_AM lets take a grab the data we want to make a plot of soil moisture.\n",
    "* First lets take a look at the shape\n",
    "    - we will need this later when opening the lat, lon datasets"
   ]
  },
  {
   "cell_type": "code",
   "execution_count": null,
   "metadata": {},
   "outputs": [],
   "source": [
    "print('the data has a shape of: '+str(f[group_id][list(f[group_id].keys())[0]].shape))"
   ]
  },
  {
   "cell_type": "markdown",
   "metadata": {},
   "source": [
    "* Now fill in the below keys from above to get the variables we want to plot."
   ]
  },
  {
   "cell_type": "code",
   "execution_count": null,
   "metadata": {},
   "outputs": [],
   "source": [
    "var_id = list(f[group_id].keys())[16] # soil_moisture\n",
    "sm_data = f[group_id][var_id][:,:]\n",
    "sm_ds = f[group_id][var_id]\n",
    "print('data are returned as '+str(type(sm_data)) + ' something easy to work with in python.')"
   ]
  },
  {
   "cell_type": "code",
   "execution_count": null,
   "metadata": {},
   "outputs": [],
   "source": [
    "ret_flag_L3_P = f[group_id]['retrieval_qual_flag'][:,:]\n",
    "print(np.unique(ret_flag_L3_P))\n",
    "print(type(ret_flag_L3_P))"
   ]
  },
  {
   "cell_type": "markdown",
   "metadata": {},
   "source": [
    "## 2. Create a map with SMAP data\n",
    "* Lets plot the data to get a sense of what we are working with"
   ]
  },
  {
   "cell_type": "code",
   "execution_count": null,
   "metadata": {},
   "outputs": [],
   "source": [
    "plt.imshow(sm_data)\n",
    "cbar = plt.colorbar(orientation = 'horizontal')\n",
    "cbar.set_label('$cm^3 cm^{-3}$')"
   ]
  },
  {
   "cell_type": "markdown",
   "metadata": {},
   "source": [
    "Ok we have to ignore the null values to get a better idea of the range in values of the dataset.\n",
    "\n",
    "You can find these null values in the meta data of the supplemental documents.\n",
    "\n",
    "We know for soil moisture and most smap datasets it to be -9999.\n",
    "This is located under the attributes for the 'soil_moisture' variable"
   ]
  },
  {
   "cell_type": "code",
   "execution_count": null,
   "metadata": {},
   "outputs": [],
   "source": [
    "print(f[group_id][var_id].attrs['_FillValue'])"
   ]
  },
  {
   "cell_type": "code",
   "execution_count": null,
   "metadata": {},
   "outputs": [],
   "source": [
    "sm_data[sm_data==f[group_id][var_id].attrs['_FillValue']]=np.nan;\n",
    "plt.imshow(sm_data,vmin=0.,vmax=0.55, cmap = 'terrain_r');\n",
    "cbar = plt.colorbar(orientation='horizontal')\n",
    "cbar.set_label('$cm^3 cm^{-3}$')"
   ]
  },
  {
   "cell_type": "markdown",
   "metadata": {},
   "source": [
    "How about we spruce this up with some coastlines, and geolocate the data using the lat, lon data?\n",
    "\n",
    "Below we load the EASE2 grid lon and lat datasets.  These can be found on the NSIDC website."
   ]
  },
  {
   "cell_type": "code",
   "execution_count": null,
   "metadata": {},
   "outputs": [],
   "source": [
    "# Read binary files and reshape to correct size\n",
    "lats = np.fromfile('EASE2_M36km.lats.964x406x1.double', \n",
    "                      dtype=np.float64).reshape((406,964))#< reshape to dimensions above\n",
    "lons = np.fromfile('EASE2_M36km.lons.964x406x1.double', \n",
    "                      dtype=np.float64).reshape((406,964))"
   ]
  },
  {
   "cell_type": "markdown",
   "metadata": {},
   "source": [
    "Now lets use basemap to plot the dataset\n",
    "\n",
    "There are many online tutorials for basemap, to focus in on a region, and it provides lots of ways to display the data."
   ]
  },
  {
   "cell_type": "code",
   "execution_count": null,
   "metadata": {},
   "outputs": [],
   "source": [
    "fig = plt.figure(figsize=(10,6))\n",
    "m = Basemap(resolution='l',projection='robin',lat_ts=40,lat_0=lats.mean(),lon_0=lons.mean())\n",
    "xi, yi = m(lons, lats)\n",
    "cs = m.pcolor(xi,yi,sm_data, vmin = 0., vmax = 0.55, cmap = 'terrain_r')\n",
    "m.drawcoastlines()\n",
    "cbar = m.colorbar(cs, location='bottom', pad=\"5%\")\n",
    "cbar.set_label('$cm^3 cm^{-3}$')"
   ]
  },
  {
   "cell_type": "markdown",
   "metadata": {},
   "source": [
    "Awesome! We now can make a global plot, lets see if we can make this a bit more streamlined to process more data and create a time series.\n",
    "\n",
    "## 3. Plot a time-series at a location on Earth\n",
    "* Lets stick with the L3 SM P dataset because the data isnt that big and its what I could put on your flashdrives for the demo.\n",
    "\n",
    "Lets start by navigating back to the L3_SM_P directory & creating a filelist and a make a 3-d array to work wiht"
   ]
  },
  {
   "cell_type": "code",
   "execution_count": null,
   "metadata": {},
   "outputs": [],
   "source": [
    "for fName in flist:\n",
    "    print(fName)"
   ]
  },
  {
   "cell_type": "markdown",
   "metadata": {},
   "source": [
    "* Lets make a function to load some data.\n",
    "\n"
   ]
  },
  {
   "cell_type": "code",
   "execution_count": null,
   "metadata": {},
   "outputs": [],
   "source": [
    "def read_SML3P(filepath):\n",
    "    ''' This function extracts lat, lon and soil moisture from SMAP L3 P HDF5 file.\n",
    "    \n",
    "    Parameters\n",
    "    ----------\n",
    "    filepath : str\n",
    "        File path of a SMAP L3 HDF5 file\n",
    "    Returns\n",
    "    -------\n",
    "    soil_moisture_am: numpy.array\n",
    "    '''    \n",
    "    with h5py.File(filepath, 'r') as f:\n",
    "        # Extract data info\n",
    "        group_id_am = 'Soil_Moisture_Retrieval_Data_AM'\n",
    "        var_id_am = 'soil_moisture'\n",
    "        flag_id_am = 'retrieval_qual_flag'\n",
    "        soil_moisture_am = f[group_id_am][var_id_am][:,:]\n",
    "        flag_am = f[group_id_am][flag_id_am][:,:]\n",
    "        soil_moisture_am[soil_moisture_am==-9999.0]=np.nan;\n",
    "        soil_moisture_am[(flag_am>>0)&1==1]=np.nan\n",
    "        filename = os.path.basename(filepath)\n",
    "        yyyymmdd= filename.split('_')[4]\n",
    "        yyyy = int(yyyymmdd[0:4]);        mm = int(yyyymmdd[4:6]);        dd = int(yyyymmdd[6:8])\n",
    "        date=dt.datetime(yyyy,mm,dd)\n",
    "    return soil_moisture_am,date"
   ]
  },
  {
   "cell_type": "markdown",
   "metadata": {},
   "source": [
    "* Lets check if it works:"
   ]
  },
  {
   "cell_type": "code",
   "execution_count": null,
   "metadata": {},
   "outputs": [],
   "source": [
    "sm_test,date = read_SML3P(flist[0])\n",
    "plt.imshow(sm_test)\n",
    "cbar = plt.colorbar(orientation='horizontal')\n",
    "cbar.set_label('$cm^3 cm^{-3}$')\n",
    "plt.title(date)"
   ]
  },
  {
   "cell_type": "markdown",
   "metadata": {},
   "source": [
    "* Now that we have that working lets add everything to a 3-d array, remember time is the 3rd dimension\n",
    "* For larger datasets (i.e. 3km data or even 9km data you need to get creative to do on your local machine)"
   ]
  },
  {
   "cell_type": "code",
   "execution_count": null,
   "metadata": {},
   "outputs": [],
   "source": [
    "sm_data_3d = np.empty([sm_data.shape[0],sm_data.shape[1],len(flist)])\n",
    "times = []\n",
    "print('sm_data_3d has dimensions '+str(sm_data_3d.shape))\n",
    "i=0\n",
    "for fName in flist:\n",
    "    sm_data_3d[:,:,i],time_i = read_SML3P(fName)\n",
    "    times.append(time_i)\n",
    "    i+=1"
   ]
  },
  {
   "cell_type": "code",
   "execution_count": null,
   "metadata": {},
   "outputs": [],
   "source": [
    "sm_mean = np.nanmean(sm_data_3d,2)\n",
    "sm_mean.shape\n",
    "plt.imshow(sm_mean,vmin=0.,vmax=0.55,cmap='terrain_r')\n",
    "cbar = plt.colorbar(orientation='horizontal')\n",
    "cbar.set_label('$cm^3 cm^{-3}$')"
   ]
  },
  {
   "cell_type": "code",
   "execution_count": null,
   "metadata": {},
   "outputs": [],
   "source": [
    "N_lat = 37.5; \n",
    "S_lat = 33\n",
    "W_lon = -113.5\n",
    "E_lon = -110.0\n",
    "\n",
    "subset = (lats<N_lat)&(lats>S_lat)&(lons>W_lon)&(lons<E_lon);\n",
    "sm_time = np.empty([len(flist)]);\n",
    "for i in np.arange(0,sm_data_3d.shape[2]):\n",
    "    sm_2d = sm_data_3d[:,:,i]\n",
    "    sm_time[i] = np.nanmean(sm_2d[subset]); \n",
    "\n",
    "# Lets create a pandas series to plot the data\n",
    "smData = {'sm':sm_time}\n",
    "sm = pd.DataFrame(smData)\n",
    "sm['time']=times\n",
    "sm=sm.set_index('time')\n",
    "\n",
    "fig, ax1 = plt.subplots()\n",
    "ax1.plot(sm.index, sm, 'b*')       \n",
    "ax1.set_ylim([0,0.25])\n",
    "fig.autofmt_xdate()\n",
    "ax1.set_ylabel('$cm^3 cm^{-3}$')\n",
    "plt.title('Soil Moisture')"
   ]
  },
  {
   "cell_type": "code",
   "execution_count": null,
   "metadata": {},
   "outputs": [],
   "source": []
  }
 ],
 "metadata": {
  "anaconda-cloud": {},
  "kernelspec": {
   "display_name": "Python 3",
   "language": "python",
   "name": "python3"
  },
  "language_info": {
   "codemirror_mode": {
    "name": "ipython",
    "version": 3
   },
   "file_extension": ".py",
   "mimetype": "text/x-python",
   "name": "python",
   "nbconvert_exporter": "python",
   "pygments_lexer": "ipython3",
   "version": "3.7.1"
  }
 },
 "nbformat": 4,
 "nbformat_minor": 2
}
