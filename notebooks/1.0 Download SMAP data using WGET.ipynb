{
 "cells": [
  {
   "cell_type": "markdown",
   "metadata": {},
   "source": [
    "\n",
    "### Bulk data downloads from NSIDC\n",
    "* https://nsidc.org/support/faq/what-options-are-available-bulk-downloading-data-https-earthdata-login-enabled#mac\n",
    " \n",
    "Given the instructions for downloading data using `wget` in the link above, we can utilize python to make the process even simplier. Summarizing the steps given in the link above:  \n",
    "    \n",
    "1. Configure your username and password for authentication using a .netrc file\n",
    "```\n",
    "        >cd ~\n",
    "        >touch .netrc\n",
    "        >echo \"machine urs.earthdata.nasa.gov login <uid> password <password>\" >> .netrc\n",
    "        >chmod 0600 .netrc\n",
    "```\n",
    "2. Create a cookie file.\n",
    "```\n",
    "        >touch .urs_cookies\n",
    "```\n",
    "3. Use WGET to download the data\n",
    "```\n",
    "        >wget --load-cookies ~/.urs_cookies --save-cookies ~/.urs_cookies --keep-session-cookies --no-check-certificate --auth-no-challenge=on -r --reject \"index.html*\" -np -e robots=off <insert complete HTTPS data URL>\n",
    "```"
   ]
  },
  {
   "cell_type": "markdown",
   "metadata": {},
   "source": [
    "## 1.1 Access SMAP data via Wget\n",
    "\n",
    "### Make sure you have a recent version of wget.\n",
    "\n",
    "* We are going to do this in python, but you can do this in other languages also.\n",
    "\n",
    "* Click [here](https://www.gnu.org/software/wget/) to download WGET and a description about the software\n",
    "\n",
    "* SMAP data are available through the following url:\n",
    "    * http://n5eil01u.ecs.nsidc.org:80/opendap/SMAP/\n",
    "\n",
    "* For these examples, we will use **SPL3SMP version 004**, but the same methdology to access and subset SMAP data will work for any of the products availabe there"
   ]
  },
  {
   "cell_type": "markdown",
   "metadata": {},
   "source": [
    "import packages"
   ]
  },
  {
   "cell_type": "code",
   "execution_count": null,
   "metadata": {
    "collapsed": true
   },
   "outputs": [],
   "source": [
    "import os\n",
    "import xarray as xr\n",
    "import h5py\n",
    "import numpy as np"
   ]
  },
  {
   "cell_type": "markdown",
   "metadata": {},
   "source": [
    "### Downloading March 2017 data \n",
    "\n",
    "1. Create and navigate to a Data directory that will contain the files we download."
   ]
  },
  {
   "cell_type": "code",
   "execution_count": null,
   "metadata": {
    "collapsed": true
   },
   "outputs": [],
   "source": [
    "data_out = './Data/L3_SM_P/'\n",
    "\n",
    "def check_directory(destination_directory):\n",
    "    if not os.path.exists(destination_directory):\n",
    "        print('creating directory: ' + destination_directory)\n",
    "        os.makedirs(destination_directory)\n",
    "    else:\n",
    "        print('directory exists: ' + destination_directory)\n",
    "    return None\n",
    "\n",
    "check_directory(data_out)\n",
    "os.chdir(data_out)\n",
    "cwd = os.getcwd()\n",
    "print(cwd)"
   ]
  },
  {
   "cell_type": "markdown",
   "metadata": {},
   "source": [
    "#### Now we will create a function to return the url and filename of the data we want to download.\n",
    "\n",
    "For SMAP we will do this by year, month, and day. The rest of the filename is predictable."
   ]
  },
  {
   "cell_type": "code",
   "execution_count": null,
   "metadata": {
    "collapsed": true
   },
   "outputs": [],
   "source": [
    "def SMAP_L3_P_36km_Path(year, month, day):\n",
    "    fpath_start = 'https://n5eil01u.ecs.nsidc.org/SMAP/'\n",
    "    host = 'https://n5eil01u.ecs.nsidc.org/'\n",
    "    version = '.004'\n",
    "    url_path = '{host}/SMAP/SPL3SMP{version}/{year}.{month:02}.{day:02}/'.format(host=host,\n",
    "                                                                                 version=version,\n",
    "                                                                                 year=year,\n",
    "                                                                                 month=month,\n",
    "                                                                                 day=day)\n",
    "    filename = 'SMAP_L3_SM_P_{year}{month:02}{day:02}_R14010_001.h5'.format(year=year, \n",
    "                                                                            month=month, \n",
    "                                                                            day=day)\n",
    "\n",
    "    smap_data_path = url_path + filename\n",
    "    \n",
    "    return smap_data_path, filename\n"
   ]
  },
  {
   "cell_type": "markdown",
   "metadata": {},
   "source": [
    "We take the example from the NSIDC wget command above and append our file name to this."
   ]
  },
  {
   "cell_type": "code",
   "execution_count": null,
   "metadata": {
    "collapsed": true
   },
   "outputs": [],
   "source": [
    "WGET_COMMAND_START = 'wget --load-cookies ~/.urs_cookies --save-cookies ~/.urs_cookies --keep-session-cookies --no-check-certificate --auth-no-challenge=on -r --reject \"index.html*\" -np -e robots=off '"
   ]
  },
  {
   "cell_type": "markdown",
   "metadata": {},
   "source": [
    "## Download the data"
   ]
  },
  {
   "cell_type": "code",
   "execution_count": null,
   "metadata": {
    "collapsed": true,
    "scrolled": true
   },
   "outputs": [],
   "source": [
    "import calendar\n",
    "\n",
    "# Download data for March 2017\n",
    "year = 2017\n",
    "month = 3\n",
    "_, days_in_month = calendar.monthrange(2017, 3)  # 31 days in March 2017\n",
    "\n",
    "for day in range(1, days_in_month + 1):\n",
    "    print('opening SMAP data for: '+str(year)+'-'+str(month).zfill(2)+'-'+str(day).zfill(2))\n",
    "    \n",
    "    full_path,fileName = SMAP_L3_P_36km_Path(year, month, day)\n",
    "    WGET_COMMAND = WGET_COMMAND_START+'-O '+fileName+' '+full_path\n",
    "    print(WGET_COMMAND)\n",
    "    os.system(WGET_COMMAND)\n",
    "    \n",
    "    print(fileName + ' downloaded')\n",
    "    print('*** SM data saved to: '+cwd + fileName+' *** ')"
   ]
  },
  {
   "cell_type": "markdown",
   "metadata": {},
   "source": [
    "### Now you have the tools to download in bulk!\n",
    "\n",
    "**FYI these scripts can take a long time, especially if you are downloading larger files.**\n",
    "* SMAP 36km data are ~ 30MB\n",
    "* SMAP 9km data are ~ 300MB\n",
    "* SMAP 3km data are ~ 2 GB\n",
    "\n",
    "** This is why OPENDAP makes more sense in some cases **"
   ]
  }
 ],
 "metadata": {
  "kernelspec": {
   "display_name": "Python 3",
   "language": "python",
   "name": "python3"
  },
  "language_info": {
   "codemirror_mode": {
    "name": "ipython",
    "version": 3
   },
   "file_extension": ".py",
   "mimetype": "text/x-python",
   "name": "python",
   "nbconvert_exporter": "python",
   "pygments_lexer": "ipython3",
   "version": "3.6.6"
  }
 },
 "nbformat": 4,
 "nbformat_minor": 2
}
